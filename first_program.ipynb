{
  "nbformat": 4,
  "nbformat_minor": 0,
  "metadata": {
    "colab": {
      "provenance": [],
      "authorship_tag": "ABX9TyMw+7YvTwI7MihwJicbK3JC",
      "include_colab_link": true
    },
    "kernelspec": {
      "name": "python3",
      "display_name": "Python 3"
    }
  },
  "cells": [
    {
      "cell_type": "markdown",
      "metadata": {
        "id": "view-in-github",
        "colab_type": "text"
      },
      "source": [
        "<a href=\"https://colab.research.google.com/github/RDifault/simple_python_program/blob/main/first_program.ipynb\" target=\"_parent\"><img src=\"https://colab.research.google.com/assets/colab-badge.svg\" alt=\"Open In Colab\"/></a>"
      ]
    },
    {
      "cell_type": "code",
      "metadata": {
        "colab": {
          "base_uri": "https://localhost:8080/"
        },
        "id": "DhIuKvf4B17s",
        "outputId": "fdba1535-d11e-4da3-d693-3cd8f310ad04"
      },
      "source": [
        "import pandas as pd\n",
        "D = {\"Item Name\" : [\"Ayam Goreng\", \"Mie Goreng\", \"Donat\"], \"Qty\" : [10,2,3], \"Price\" : [10000, 5000, 7000]}\n",
        "data = pd.DataFrame(D)\n",
        "print(data)\n",
        "totalPrice = pd.Series([])\n",
        "for i in range (len(data)):\n",
        "    totalPrice[i] = data[\"Qty\"][i] * data[\"Price\"][i]\n",
        "\n",
        "data.insert(3, \"TotalPrice\", totalPrice)\n",
        "print(data)\n",
        "\n",
        "maxValue = data.max()\n",
        "print(\"- Maximum -\\n\")\n",
        "print(\"All data: \\n\", maxValue)\n",
        "print(\"Qty :\", maxValue[\"Qty\"])\n",
        "print(\"Price : \", maxValue[\"Price\"])\n",
        "print(\"Total Price : \", maxValue[\"TotalPrice\"])\n",
        "\n",
        "minValue = data.min()\n",
        "print(\"\\n- Minimum -\\n\")\n",
        "print(\"All data : \\n\", minValue)\n",
        "print(\"Qty : \", minValue[\"Qty\"])\n",
        "print(\"Price : \", minValue[\"Price\"])\n",
        "print(\"Total Price : \", minValue[\"TotalPrice\"])\n",
        "\n",
        "avgValue = data.mean()\n",
        "print(\"\\n- Average -\\n\")\n",
        "print(\"All data : \\n\", avgValue)\n",
        "print(\"Qty : \", avgValue[\"Qty\"])\n",
        "print(\"Price : \", avgValue[\"Price\"])\n",
        "print(\"Total Price : \", avgValue[\"TotalPrice\"])\n",
        "\n",
        "sumValue = data.sum()\n",
        "print(\"\\n- Summary -\\n\")\n",
        "print(\"All data : \\n\", sumValue)\n",
        "print(\"Qty : \", sumValue[\"Qty\"])\n",
        "print(\"Price : \", sumValue[\"Price\"])\n",
        "print(\"Total Price : \", sumValue[\"TotalPrice\"])"
      ],
      "execution_count": null,
      "outputs": [
        {
          "output_type": "stream",
          "text": [
            "     Item Name  Qty  Price\n",
            "0  Ayam Goreng   10  10000\n",
            "1   Mie Goreng    2   5000\n",
            "2        Donat    3   7000\n",
            "     Item Name  Qty  Price  TotalPrice\n",
            "0  Ayam Goreng   10  10000      100000\n",
            "1   Mie Goreng    2   5000       10000\n",
            "2        Donat    3   7000       21000\n",
            "- Maximum -\n",
            "\n",
            "All data: \n",
            " Item Name     Mie Goreng\n",
            "Qty                   10\n",
            "Price              10000\n",
            "TotalPrice        100000\n",
            "dtype: object\n",
            "Qty : 10\n",
            "Price :  10000\n",
            "Total Price :  100000\n",
            "\n",
            "- Minimum -\n",
            "\n",
            "All data : \n",
            " Item Name     Ayam Goreng\n",
            "Qty                     2\n",
            "Price                5000\n",
            "TotalPrice          10000\n",
            "dtype: object\n",
            "Qty :  2\n",
            "Price :  5000\n",
            "Total Price :  10000\n",
            "\n",
            "- Average -\n",
            "\n",
            "All data : \n",
            " Qty               5.000000\n",
            "Price          7333.333333\n",
            "TotalPrice    43666.666667\n",
            "dtype: float64\n",
            "Qty :  5.0\n",
            "Price :  7333.333333333333\n",
            "Total Price :  43666.666666666664\n",
            "\n",
            "- Summary -\n",
            "\n",
            "All data : \n",
            " Item Name     Ayam GorengMie GorengDonat\n",
            "Qty                                   15\n",
            "Price                              22000\n",
            "TotalPrice                        131000\n",
            "dtype: object\n",
            "Qty :  15\n",
            "Price :  22000\n",
            "Total Price :  131000\n"
          ],
          "name": "stdout"
        },
        {
          "output_type": "stream",
          "text": [
            "/usr/local/lib/python3.7/dist-packages/ipykernel_launcher.py:5: DeprecationWarning: The default dtype for empty Series will be 'object' instead of 'float64' in a future version. Specify a dtype explicitly to silence this warning.\n",
            "  \"\"\"\n"
          ],
          "name": "stderr"
        }
      ]
    },
    {
      "cell_type": "code",
      "metadata": {
        "id": "XvZpjSYLV979"
      },
      "source": [],
      "execution_count": null,
      "outputs": []
    }
  ]
}